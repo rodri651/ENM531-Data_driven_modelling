{
 "cells": [
  {
   "cell_type": "code",
   "execution_count": 4,
   "metadata": {},
   "outputs": [],
   "source": [
    "# class to form the basis feature\n",
    "import numpy as np\n",
    "import scipy as sc\n",
    "\n",
    "class xdes:\n",
    "    \n",
    "    def __init__(self,X):\n",
    "        self.x=X\n",
    "    \n",
    "    \n",
    "    def iden(self):\n",
    "        return self.x\n",
    "    \n",
    "    def mon(self,N):\n",
    "        x_mon=np.ones(self.x.shape[0])[:,None]\n",
    "        for s in range(1,N+1):\n",
    "            x_mon=np.hstack((x_mon,self.x**s))\n",
    "        \n",
    "        return x_mon\n",
    "    \n",
    "    def four(self,N):\n",
    "        xfour=np.hstack((np.zeros(self.x.shape[0])[:,None],np.ones(self.x.shape[0])[:,None]))\n",
    "        for s in range(1,N+1):\n",
    "            xfour=np.hstack((xfour,np.hstack((np.sin(s*np.pi*self.x),np.cos(s*np.pi*self.x)))))\n",
    "        \n",
    "        return xfour\n",
    "    \n",
    "    def lege(self,N):\n",
    "        w=sc.special.legendre(1)\n",
    "        lege_2=w(self.x)\n",
    "        lege_1=lege_2\n",
    "        for s in range (2,N+1):\n",
    "            w=sc.special.legendre(s)\n",
    "            lege_2=w(self.x)\n",
    "            lege_1=np.hstack((lege_1,lege_2))\n",
    "        return lege_1\n",
    "    "
   ]
  },
  {
   "cell_type": "code",
   "execution_count": 9,
   "metadata": {},
   "outputs": [],
   "source": [
    "import autograd.numpy as np\n",
    "from autograd import grad, jacobian, hessian\n",
    "from pyDOE import lhs\n",
    "import matplotlib.pyplot as plt\n",
    "import sklearn.metrics as sk\n",
    "from random import choices\n",
    "from numpy import genfromtxt\n",
    "\n",
    "my_data = genfromtxt('data.csv', delimiter=',')[1:,0:-1]        #extract all elements except the first row and the last column\n",
    "training = my_data[0:6666,:]                                    # using the first 2/3 of the data for training\n",
    "testing = my_data[6667:,:]\n",
    "#x_1=my_data[0:6666,:-1]\n",
    "#y=my_data[0:6666,-1]\n",
    "\n",
    "a=0.02\n",
    "b_1=0.9\n",
    "b_2=0.999\n",
    "e=10**-7\n",
    "Nt=20000                      # number of iterations\n",
    "batch=32                      # batch size\n",
    "los_1=[]\n",
    "\n",
    "def generate_rand():\n",
    "    weight = np.random.random_sample([13,1])\n",
    "    return weight\n",
    "\n",
    "def neglog(w_1):      \n",
    "    wTx = np.dot(x_1,w_1)\n",
    "    ai =  1/(1+np.exp(wTx))\n",
    "    loss = -np.matmul(y.T,np.log(ai)) - np.matmul((1-y).T,np.log(1-ai))\n",
    "    return loss\n",
    "\n",
    "def batch_size():\n",
    "    indices=choices(range(0,training.shape[0]),k=batch)\n",
    "    randomset=training[indices]\n",
    "    y=randomset[:,-1][:,None]\n",
    "    x_1=np.hstack((randomset[:,:-1],np.ones([batch,1])))\n",
    "    return x_1, y\n",
    "#geenrate initial random weights\n",
    "w_1 = generate_rand()\n",
    "m_w_1=np.zeros((13,1))\n",
    "v_w_1=np.zeros((13,1))\n",
    "\n",
    "\n",
    "jacobian_w = jacobian(neglog,0)\n",
    "\n",
    "\n",
    "\n",
    "for t in range(1,Nt):\n",
    "            #iteration number\n",
    "       #Extract batch size of elements randomly from the main training dataset\n",
    "       x_1,y=batch_size()\n",
    "\n",
    "        #convert the y in the training dataset to 0,1\n",
    "       y=(np.sign(y)*2+2)/4\n",
    "       #Adam optimiser\n",
    "       m_w_1 = b_1*m_w_1 + (1-b_1)*np.reshape(jacobian_w(w_1),(13,1))\n",
    "       v_w_1 = b_2*v_w_1 + (1-b_2)*np.power(np.reshape(jacobian_w(w_1),(13,1)),2)\n",
    "      \n",
    "       m_w_t=m_w_1/(1-np.power(b_1,t))\n",
    "       v_w_t=v_w_1/(1-np.power(b_2,t))\n",
    "       \n",
    "       w_1 = w_1 - a*np.divide(m_w_t,np.sqrt(v_w_t)+e)\n",
    "       wTx = np.matmul(x_1,w_1)\n",
    "       ai =  1/(1+np.exp(wTx))\n",
    "       los = -np.matmul(y.T,np.log(ai)) - np.matmul((1-y).T,np.log(1-ai))\n",
    "       los_1 = np.append(los_1,los)\n",
    "\n",
    "#training dataset evaluation\n",
    "x_train=x_test=np.hstack((training[:,:-1],np.ones([6666,1])))\n",
    "y_train=((np.sign(training[:,-1])+1)/2)[:,None]\n",
    "y_train_p = (np.sign(1/(1+np.exp(np.dot(x_train,w_1)))-0.5)+1)/2\n",
    "zt = sk.confusion_matrix(y_train,y_train_p)\n",
    "\n",
    "#testing dataset evaluation\n",
    "x_test=np.hstack((testing[:,:-1],np.ones([3333,1])))\n",
    "y_test=((np.sign(testing[:,-1])+1)/2)[:,None]\n",
    "y_test_p = (np.sign(1/(1+np.exp(np.dot(x_test,w_1)))-0.5)+1)/2\n",
    "z = sk.confusion_matrix(y_test,y_test_p)\n",
    "den=np.sum(z)\n",
    "num=np.trace(z)\n",
    "accuracy=num/den\n"
   ]
  },
  {
   "cell_type": "code",
   "execution_count": 10,
   "metadata": {},
   "outputs": [
    {
     "name": "stdout",
     "output_type": "stream",
     "text": [
      "confusion matrix = [[ 851  372]\n",
      " [ 296 1814]]\n",
      "accuracy =  79.95799579957996 %\n"
     ]
    }
   ],
   "source": [
    "#print(zt)\n",
    "print(\"confusion matrix =\",z)   #confusion matrix on testing data\n",
    "print(\"accuracy = \",accuracy*100,\"%\")  #accuracy on this confusion matrix"
   ]
  },
  {
   "cell_type": "code",
   "execution_count": 11,
   "metadata": {},
   "outputs": [
    {
     "data": {
      "text/plain": [
       "Text(0, 0.5, '$Loss$')"
      ]
     },
     "execution_count": 11,
     "metadata": {},
     "output_type": "execute_result"
    },
    {
     "data": {
      "image/png": "[encoded data removed]",
      "text/plain": [
       "<Figure size 432x288 with 1 Axes>"
      ]
     },
     "metadata": {
      "needs_background": "light"
     },
     "output_type": "display_data"
    }
   ],
   "source": [
    "\n",
    "plt.plot(los_1,linewidth=0.5,label='Loss as function of iterations')\n",
    "plt.legend()\n",
    "plt.xlabel('Number of iterations')\n",
    "plt.ylabel('$Loss$')"
   ]
  },
  {
   "cell_type": "code",
   "execution_count": null,
   "metadata": {},
   "outputs": [],
   "source": []
  }
 ],
 "metadata": {
  "kernelspec": {
   "display_name": "Python 3",
   "language": "python",
   "name": "python3"
  },
  "language_info": {
   "codemirror_mode": {
    "name": "ipython",
    "version": 3
   },
   "file_extension": ".py",
   "mimetype": "text/x-python",
   "name": "python",
   "nbconvert_exporter": "python",
   "pygments_lexer": "ipython3",
   "version": "3.7.3"
  }
 },
 "nbformat": 4,
 "nbformat_minor": 2
}
